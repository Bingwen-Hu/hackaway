{
 "cells": [
  {
   "cell_type": "markdown",
   "metadata": {},
   "source": [
    "# asyncio\n",
    "+ @asycio.coroutine is not mandatory, but is recommended"
   ]
  },
  {
   "cell_type": "markdown",
   "metadata": {},
   "source": [
    "### asyncio.Future: Nonblocking by Design\n",
    "- You don’t need my_future.add_done_callback(...) because you can simply put\n",
    "  whatever processing you would do after the future is done in the lines that follow\n",
    "  yield from my_future in your coroutine. That’s the big advantage of having coroutines: \n",
    "  functions that can be suspended and resumed.\n",
    "- You don’t need my_future.result() because the value of a yield from expression\n",
    "  on a future is the result \n",
    "  (e.g., result = yield from my_future).\n"
   ]
  },
  {
   "cell_type": "code",
   "execution_count": 4,
   "metadata": {
    "collapsed": false
   },
   "outputs": [],
   "source": [
    "import asyncio\n",
    "import aiohttp"
   ]
  }
 ],
 "metadata": {
  "kernelspec": {
   "display_name": "Python 3",
   "language": "python",
   "name": "python3"
  },
  "language_info": {
   "codemirror_mode": {
    "name": "ipython",
    "version": 3
   },
   "file_extension": ".py",
   "mimetype": "text/x-python",
   "name": "python",
   "nbconvert_exporter": "python",
   "pygments_lexer": "ipython3",
   "version": "3.6.0"
  }
 },
 "nbformat": 4,
 "nbformat_minor": 2
}
