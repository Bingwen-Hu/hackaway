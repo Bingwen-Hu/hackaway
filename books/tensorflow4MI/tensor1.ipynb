{
 "cells": [
  {
   "cell_type": "markdown",
   "metadata": {},
   "source": [
    "### Start Tensorflow"
   ]
  },
  {
   "cell_type": "code",
   "execution_count": null,
   "metadata": {
    "collapsed": true
   },
   "outputs": [],
   "source": [
    "import tensorflow as tf\n",
    "a = tf.constant(5, name=\"input_a\")\n",
    "b = tf.constant(3, name=\"input_b\")\n",
    "c = tf.subtract(a, b, name=\"mul_c\")\n",
    "d = tf.add(a, b, name=\"add_d\")\n",
    "e = tf.add(c, d, name=\"add_e\")\n",
    "\n",
    "sess = tf.Session()\n",
    "print(sess.run(e))\n",
    "train_writer = tf.summary.FileWriter('/temp', sess.graph)\n",
    "train_writer.close()\n",
    "sess.close()"
   ]
  },
  {
   "cell_type": "markdown",
   "metadata": {},
   "source": [
    "### Thinking with tensors"
   ]
  },
  {
   "cell_type": "code",
   "execution_count": 15,
   "metadata": {
    "collapsed": false
   },
   "outputs": [
    {
     "data": {
      "text/plain": [
       "array([2])"
      ]
     },
     "execution_count": 15,
     "metadata": {},
     "output_type": "execute_result"
    }
   ],
   "source": [
    "import tensorflow as tf\n",
    "\n",
    "a = tf.constant([5, 3], name=\"input_a\")\n",
    "b = tf.reduce_prod(a, name=\"prod_b\")\n",
    "c = tf.reduce_sum(a, name=\"sum_c\")\n",
    "d = tf.add(b, c, name=\"add_d\")\n",
    "shape = tf.shape(a, name=\"a_shape\")\n",
    "\n",
    "sess = tf.Session()\n",
    "sess.run(shape)\n",
    "sess.close()"
   ]
  },
  {
   "cell_type": "markdown",
   "metadata": {},
   "source": [
    "### Tensorflow Operations"
   ]
  },
  {
   "cell_type": "code",
   "execution_count": null,
   "metadata": {
    "collapsed": true
   },
   "outputs": [],
   "source": [
    "import tensorflow as tf\n",
    "import numpy as np\n",
    "\n",
    "# initalize some tensors to use in computation\n",
    "a = np.array([2, 3], dtype=np.int32)\n",
    "b = np.array([4, 5], dtype=np.int32)\n",
    "\n",
    "# use 'tf.add()' to initialize an 'add' Operation\n",
    "# The variable 'c' will be a handle to the tensor output of this Op\n",
    "c = tf.add(a, b, name=\"my_add_op\")"
   ]
  },
  {
   "cell_type": "markdown",
   "metadata": {},
   "source": [
    "### Tensorflow Graphs\n",
    "\n",
    "As a convenience, TensorFlow automatically creates a Graph when the library is loaded and assigns \n",
    "it to be the default. Thus, any Operations, tensors, etc. defined outside of a Graph.as_default() \n",
    "context manager will automatically be placed in the default graph."
   ]
  },
  {
   "cell_type": "code",
   "execution_count": null,
   "metadata": {
    "collapsed": true
   },
   "outputs": [],
   "source": [
    "import tensorflow as tf\n",
    "\n",
    "# create a new graph\n",
    "g = tf.Graph()\n",
    "\n",
    "# Placed in the default graph\n",
    "in_default_graph = tf.add(1, 2)\n",
    "\n",
    "# Placed in graph 'g'\n",
    "with g.as_default():\n",
    "    a = tf.multiply(2, 3)"
   ]
  },
  {
   "cell_type": "markdown",
   "metadata": {},
   "source": [
    "### Tensorflow Session"
   ]
  },
  {
   "cell_type": "code",
   "execution_count": 17,
   "metadata": {
    "collapsed": false
   },
   "outputs": [
    {
     "data": {
      "text/plain": [
       "[7, 21]"
      ]
     },
     "execution_count": 17,
     "metadata": {},
     "output_type": "execute_result"
    }
   ],
   "source": [
    "import tensorflow as tf\n",
    "\n",
    "a = tf.add(2, 5)\n",
    "b = tf.multiply(a, 3)\n",
    "\n",
    "sess = tf.Session()\n",
    "sess.run([a, b])"
   ]
  },
  {
   "cell_type": "code",
   "execution_count": 19,
   "metadata": {
    "collapsed": false
   },
   "outputs": [],
   "source": [
    "import tensorflow as tf\n",
    "\n",
    "a = tf.add(2, 5)\n",
    "b = tf.multiply(a, 3)\n",
    "\n",
    "sess = tf.Session()\n",
    "\n",
    "replace_dict = {a: 15}\n",
    "\n",
    "sess.run([a, b], feed_dict=replace_dict)\n",
    "\n",
    "sess.close()"
   ]
  },
  {
   "cell_type": "code",
   "execution_count": 22,
   "metadata": {
    "collapsed": false
   },
   "outputs": [],
   "source": [
    "# short cut for tensorflow session\n",
    "import tensorflow as tf\n",
    "\n",
    "a = tf.constant(5)\n",
    "sess = tf.Session()\n",
    "\n",
    "with sess.as_default():\n",
    "    a.eval()\n",
    "    \n",
    "sess.close()"
   ]
  },
  {
   "cell_type": "markdown",
   "metadata": {},
   "source": [
    "### Placeholder"
   ]
  },
  {
   "cell_type": "code",
   "execution_count": 24,
   "metadata": {
    "collapsed": false
   },
   "outputs": [
    {
     "data": {
      "text/plain": [
       "23"
      ]
     },
     "execution_count": 24,
     "metadata": {},
     "output_type": "execute_result"
    }
   ],
   "source": [
    "import tensorflow as tf\n",
    "import numpy as np\n",
    "\n",
    "a = tf.placeholder(tf.int32, shape=[2], name=\"my_input\")\n",
    "\n",
    "b = tf.reduce_prod(a, name=\"prob_b\")\n",
    "c = tf.reduce_sum(a, name=\"sum_c\")\n",
    "\n",
    "d = tf.add(b, c, name=\"add_d\")\n",
    "\n",
    "sess = tf.Session()\n",
    "\n",
    "input_dict = {a: np.array([5, 3], dtype=np.int32)}\n",
    "\n",
    "sess.run(d, feed_dict=input_dict)"
   ]
  },
  {
   "cell_type": "markdown",
   "metadata": {},
   "source": [
    "### Variables"
   ]
  },
  {
   "cell_type": "code",
   "execution_count": 27,
   "metadata": {
    "collapsed": false
   },
   "outputs": [],
   "source": [
    "import tensorflow as tf\n",
    "\n",
    "my_var = tf.Variable(3, name=\"my_variable\")\n",
    "\n",
    "add = tf.add(5, my_var)\n",
    "mul = tf.multiply(5, my_var)\n",
    "\n",
    "# 2x2 matrix\n",
    "xeros = tf.zeros([2, 2])\n",
    "\n",
    "# vector of length 6 of ones\n",
    "ones = tf.ones([6])\n",
    "\n",
    "uniform = tf.random_uniform([3, 3, 3], minval=0, maxval=10)\n",
    "\n",
    "normal = tf.random_normal([3, 3, 3], mean=0.0, stddev=2.0)\n",
    "\n",
    "random_var = tf.Variable(tf.truncated_normal([2, 2]))\n",
    "\n",
    "\n",
    "init = tf.global_variables_initializer()\n",
    "sess = tf.Session()\n",
    "sess.run(init)\n",
    "sess.close()"
   ]
  },
  {
   "cell_type": "markdown",
   "metadata": {},
   "source": [
    "### Changing Variable"
   ]
  },
  {
   "cell_type": "code",
   "execution_count": 29,
   "metadata": {
    "collapsed": false
   },
   "outputs": [
    {
     "data": {
      "text/plain": [
       "8"
      ]
     },
     "execution_count": 29,
     "metadata": {},
     "output_type": "execute_result"
    }
   ],
   "source": [
    "import tensorflow as tf\n",
    "\n",
    "my_var = tf.Variable(1)\n",
    "\n",
    "my_var_times_two = my_var.assign(my_var * 2)\n",
    "\n",
    "init = tf.global_variables_initializer()\n",
    "\n",
    "sess = tf.Session()\n",
    "\n",
    "sess.run(init)\n",
    "\n",
    "sess.run(my_var_times_two)\n",
    "sess.run(my_var_times_two)\n",
    "sess.run(my_var_times_two)"
   ]
  },
  {
   "cell_type": "code",
   "execution_count": 41,
   "metadata": {
    "collapsed": false
   },
   "outputs": [
    {
     "data": {
      "text/plain": [
       "41"
      ]
     },
     "execution_count": 41,
     "metadata": {},
     "output_type": "execute_result"
    }
   ],
   "source": [
    "sess.run(my_var.assign_add(3))"
   ]
  },
  {
   "cell_type": "markdown",
   "metadata": {},
   "source": [
    "### Trainable"
   ]
  },
  {
   "cell_type": "code",
   "execution_count": 42,
   "metadata": {
    "collapsed": false
   },
   "outputs": [],
   "source": [
    "not_trainable = tf.Variable(0, trainable=False)"
   ]
  },
  {
   "cell_type": "markdown",
   "metadata": {},
   "source": [
    "### Name Scope"
   ]
  },
  {
   "cell_type": "code",
   "execution_count": 43,
   "metadata": {
    "collapsed": true
   },
   "outputs": [],
   "source": [
    "import tensorflow as tf\n",
    "\n",
    "with tf.name_scope(\"Scope_A\"):\n",
    "    a = tf.add(1, 2, name=\"A_add\")\n",
    "    b = tf.multiply(a, 3, name=\"A_mul\")\n",
    "    \n",
    "with tf.name_scope(\"Scope_B\"):\n",
    "    c = tf.add(4, 5, name=\"B_add\")\n",
    "    d = tf.multiply(c, 9, name=\"B_mul\")\n",
    "    \n",
    "e = tf.add(b, d, name=\"output\")\n",
    "\n",
    "writer = tf.summary.FileWriter(\"/temp/name_scope_1\", graph=tf.get_default_graph())\n",
    "writer.close()\n"
   ]
  }
 ],
 "metadata": {
  "kernelspec": {
   "display_name": "Python 3",
   "language": "python",
   "name": "python3"
  },
  "language_info": {
   "codemirror_mode": {
    "name": "ipython",
    "version": 3
   },
   "file_extension": ".py",
   "mimetype": "text/x-python",
   "name": "python",
   "nbconvert_exporter": "python",
   "pygments_lexer": "ipython3",
   "version": "3.6.0"
  }
 },
 "nbformat": 4,
 "nbformat_minor": 2
}
