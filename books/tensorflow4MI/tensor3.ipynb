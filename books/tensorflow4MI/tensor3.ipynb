{
 "cells": [
  {
   "cell_type": "code",
   "execution_count": 8,
   "metadata": {
    "collapsed": false
   },
   "outputs": [],
   "source": [
    "import tensorflow as tf\n",
    "\n",
    "graph = tf.Graph()\n",
    "\n",
    "with graph.as_default():\n",
    "    \n",
    "    with tf.name_scope(\"variables\"):\n",
    "        global_step = tf.Variable(0, dtype=tf.int32, trainable=False, name=\"global_step\")\n",
    "        \n",
    "        total_output = tf.Variable(0.0, dtype=tf.float32, trainable=False, name=\"total_output\")\n",
    "        \n",
    "    with tf.name_scope(\"transformation\"):\n",
    "        \n",
    "        with tf.name_scope(\"input\"):\n",
    "            a = tf.placeholder(tf.float32, shape=[None], name=\"input_placeholder_a\")\n",
    "        \n",
    "        with tf.name_scope(\"intermediate_layer\"):\n",
    "            b = tf.reduce_prod(a, name=\"product_b\")\n",
    "            c = tf.reduce_sum(a, name=\"sum_c\")\n",
    "            \n",
    "        with tf.name_scope(\"output\"):\n",
    "            output = tf.add(b, c, name=\"output\")\n",
    "        \n",
    "    with tf.name_scope(\"update\"):\n",
    "        update_total = total_output.assign_add(output)\n",
    "        \n",
    "        increment_step = global_step.assign_add(1)\n",
    "        \n",
    "    with tf.name_scope(\"summaries\"):\n",
    "        avg = tf.div(update_total, tf.cast(increment_step, tf.float32), name=\"average\")\n",
    "        \n",
    "        # Create summaries for output node\n",
    "        tf.summary.scalar(\"output\", output)\n",
    "        tf.summary.scalar(\"total_summary\", update_total)\n",
    "        tf.summary.scalar(\"average_summary\", avg)\n",
    "    \n",
    "    with tf.name_scope(\"global_ops\"):\n",
    "        init = tf.global_variables_initializer()\n",
    "        merged_summaries = tf.summary.merge_all()\n",
    "        \n",
    "sess = tf.Session(graph=graph)\n",
    "writer = tf.summary.FileWriter(\"/temp/improved_graph\", graph)\n",
    "sess.run(init)\n",
    "\n",
    "def run_graph(input_tensor):\n",
    "    feed_dict = {a: input_tensor}\n",
    "    _, step, summary = sess.run([output, increment_step, merged_summaries], \n",
    "                               feed_dict=feed_dict)\n",
    "    writer.add_summary(summary, global_step=step)"
   ]
  },
  {
   "cell_type": "code",
   "execution_count": 9,
   "metadata": {
    "collapsed": false
   },
   "outputs": [],
   "source": [
    "run_graph([2, 8])"
   ]
  },
  {
   "cell_type": "code",
   "execution_count": 15,
   "metadata": {
    "collapsed": false
   },
   "outputs": [],
   "source": [
    "run_graph([2,4,6])"
   ]
  },
  {
   "cell_type": "code",
   "execution_count": 16,
   "metadata": {
    "collapsed": true
   },
   "outputs": [],
   "source": [
    "writer.flush()"
   ]
  },
  {
   "cell_type": "code",
   "execution_count": 17,
   "metadata": {
    "collapsed": true
   },
   "outputs": [],
   "source": [
    "writer.close()\n",
    "sess.close()"
   ]
  }
 ],
 "metadata": {
  "kernelspec": {
   "display_name": "Python 3",
   "language": "python",
   "name": "python3"
  },
  "language_info": {
   "codemirror_mode": {
    "name": "ipython",
    "version": 3
   },
   "file_extension": ".py",
   "mimetype": "text/x-python",
   "name": "python",
   "nbconvert_exporter": "python",
   "pygments_lexer": "ipython3",
   "version": "3.6.0"
  }
 },
 "nbformat": 4,
 "nbformat_minor": 2
}
